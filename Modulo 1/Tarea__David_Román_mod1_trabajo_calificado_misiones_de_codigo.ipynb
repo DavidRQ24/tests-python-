{
  "nbformat": 4,
  "nbformat_minor": 0,
  "metadata": {
    "colab": {
      "provenance": [],
      "include_colab_link": true
    },
    "kernelspec": {
      "name": "python3",
      "display_name": "Python 3"
    },
    "language_info": {
      "name": "python"
    }
  },
  "cells": [
    {
      "cell_type": "markdown",
      "metadata": {
        "id": "view-in-github",
        "colab_type": "text"
      },
      "source": [
        "<a href=\"https://colab.research.google.com/github/DavidRQ24/tests-python-/blob/main/Modulo%201/Tarea__David_Rom%C3%A1n_mod1_trabajo_calificado_misiones_de_codigo.ipynb\" target=\"_parent\"><img src=\"https://colab.research.google.com/assets/colab-badge.svg\" alt=\"Open In Colab\"/></a>"
      ]
    },
    {
      "cell_type": "markdown",
      "source": [
        "<img src=\"https://posgrado.utec.edu.pe/sites/default/files/2023-08/Testimonial-home-2.jpg\" alt=\"HTML5 Icon\" width=\"900\" height=\"250\" >\n"
      ],
      "metadata": {
        "id": "dYz-CyepUcRS"
      }
    },
    {
      "cell_type": "markdown",
      "source": [
        "# **Trabajo Calificado: Misiones de Código**"
      ],
      "metadata": {
        "id": "tYd6BiWgUfLo"
      }
    },
    {
      "cell_type": "markdown",
      "source": [
        "**Contexto:**\n",
        "\n",
        "Eres desarrollador de un Simulador de Aventuras llamado Pythonia, un entorno virtual de entrenamiento diseñado para mejorar tus habilidades de programación. En este simulador, enfrentarás una serie de desafíos basados en situaciones de videojuegos y escenarios de aventura, donde deberás aplicar estructuras lógicas, condicionales, bucles y funciones para resolver problemas.\n",
        "\n"
      ],
      "metadata": {
        "id": "GtjjVTFRU6W1"
      }
    },
    {
      "cell_type": "markdown",
      "source": [
        "Cada ejercicio representa un reto independiente que simula eventos comunes en el desarrollo de videojuegos, sistemas de simulación y lógica de juegos interactivos."
      ],
      "metadata": {
        "id": "Ggayz2SXVXjt"
      }
    },
    {
      "cell_type": "markdown",
      "source": [
        "**Recomendaciones:**\n",
        "\n",
        "Utilizar buenas prácticas: comentarios, entradas y salidas limpias.\n",
        "\n",
        "Uso de funciones donde sea necesario."
      ],
      "metadata": {
        "id": "eAL1_dscUjd_"
      }
    },
    {
      "cell_type": "markdown",
      "source": [
        "**Ejercicio 1: Elige tu personaje (Variables y Entrada/Salida)**\n",
        "\n",
        "Crea un programa que permita al jugador elegir su personaje entre Mago, Guerrero o Arquero. Según la elección, muestra un mensaje personalizado con las estadísticas iniciales (vida, poder, defensa)."
      ],
      "metadata": {
        "id": "YpxJc_PoVc4c"
      }
    },
    {
      "cell_type": "code",
      "source": [
        "## INICIO DE CÓDIGO\n",
        "#Se define la variable que almacenará el personaje\n",
        "pj = (input('Seleccione su personaje inicial \"Guerrero\", \"Mago\" o \"Arquero\": ')).lower()\n",
        "\n",
        "#Definimos el diccionario con los stats de los personajes\n",
        "stats = {\"guerrero\": {\"Vida\": 10, \"Poder\": 20, \"Defensa\": 8},\n",
        "         \"mago\": {\"Vida\": 9, \"Poder\": 15, \"Defensa\": 5},\n",
        "         \"arquero\": {\"Vida\":8, \"Poder\":16, \"Defensa\": 6}\n",
        "         }\n",
        "\n",
        "#Se muestran los stats según pj elegido\n",
        "if pj == \"guerrero\":\n",
        "   print(f'Excelente elección el {pj.title()} \\nTus estadísticas son: \\n {stats[\"guerrero\"]}')\n",
        "elif pj == \"mago\":\n",
        "    print(f'Excelente elección el {pj.title()} \\nTus estadísticas son: \\n {stats[\"mago\"]}')\n",
        "elif pj == \"arquero\":\n",
        "    print(f'Excelente elección el {pj.title()} \\nTus estadísticas son: \\n {stats[\"arquero\"]}')\n",
        "else:\n",
        "   print(f'Valor ingresado no es correcto')\n",
        "## FIN DE CÓDIGO"
      ],
      "metadata": {
        "id": "GZrzl-7wVfkW",
        "colab": {
          "base_uri": "https://localhost:8080/"
        },
        "outputId": "2302ae7a-0866-4eea-db0d-5fabb43d4dd5"
      },
      "execution_count": null,
      "outputs": [
        {
          "output_type": "stream",
          "name": "stdout",
          "text": [
            "Seleccione su personaje inicial \"Guerrero\", \"Mago\" o \"Arquero\": guerrero\n",
            "Excelente elección el Guerrero \n",
            "Tus estadísticas son: \n",
            " {'Vida': 10, 'Poder': 20, 'Defensa': 8}\n"
          ]
        }
      ]
    },
    {
      "cell_type": "markdown",
      "source": [
        "**Ejercicio 2: La prueba del sabio (Condicionales)**\n",
        "\n",
        "El sabio te hace una pregunta: si traes menos de 50 monedas de oro, te expulsará; si llevas entre 50 y 100, te permitirá pasar; si llevas más de 100, te dará una poción.\n",
        "Crea el programa que lea las monedas y muestre el resultado."
      ],
      "metadata": {
        "id": "kvoGwX-QVgPr"
      }
    },
    {
      "cell_type": "code",
      "execution_count": null,
      "metadata": {
        "id": "3tg6KSK-UbUw",
        "colab": {
          "base_uri": "https://localhost:8080/"
        },
        "outputId": "a48009b3-1719-47d9-f0b6-f6bcf1217d52"
      },
      "outputs": [
        {
          "output_type": "stream",
          "name": "stdout",
          "text": [
            "¿Cuántas monedas traes?: 150\n",
            "Le muestras las monedas al sabio.\n",
            "\n",
            "¡El sabio te entrego una poción!\n"
          ]
        }
      ],
      "source": [
        "## INICIO DE CÓDIGO\n",
        "#Se define la variable que almacenará las monedas\n",
        "coins = int(input('¿Cuántas monedas traes?: '))\n",
        "print('Le muestras las monedas al sabio.\\n')\n",
        "\n",
        "#Se evalua la cantidad de monedas y se muestra el resultado\n",
        "if coins < 50:\n",
        "   print(f'¡El sabio te expulsó!')\n",
        "elif 50 <= coins  <= 100 :\n",
        "    print(f'¡El sabio te permitió pasar!')\n",
        "else:\n",
        "    print(f'¡El sabio te entrego una poción!')\n",
        "## FIN DE CÓDIGO"
      ]
    },
    {
      "cell_type": "markdown",
      "source": [
        "**Ejercicio 3: El puente infinito (Bucles While)**\n",
        "\n",
        "Diseña un programa que simule el cruce de un puente que cambia su estructura aleatoriamente. El jugador debe adivinar si el siguiente paso será seguro ('s') o peligroso ('p').\n",
        "El juego termina si el jugador elige 'salir' o si falla 3 veces."
      ],
      "metadata": {
        "id": "g7B02fWhVj4M"
      }
    },
    {
      "cell_type": "code",
      "source": [
        "## INICIO DE CÓDIGO\n",
        "#Importamos choice\n",
        "from random import choice\n",
        "\n",
        "#Definimos los valores posibles y fallos\n",
        "estructura = [\"s\", \"p\"]\n",
        "fallos = 0\n",
        "\n",
        "#Realizamos el bucle para la adivinanza\n",
        "while fallos <=3:\n",
        "  paso_puente = random.choice(estructura)\n",
        "  paso = (input(\"Adivina si el paso es seguro ('s') o peligroso ('p'), ingresa salir para finalizar: \")).lower()\n",
        "\n",
        "  if paso == paso_puente:\n",
        "     print('Correcto')\n",
        "     continue\n",
        "  elif paso == 'salir':\n",
        "     print('Sales del juego')\n",
        "     break\n",
        "  elif paso != paso_puente:\n",
        "     fallos += 1\n",
        "     print('No pudiste adivinar el paso')\n",
        "     continue\n",
        "  else:\n",
        "     print('Valor ingresado no es correcto, ingrese una opción válida.')\n",
        "     break\n",
        "\n",
        "if fallos > 3:\n",
        "  print('Alcanzaste el máximo de intentos posibles')\n",
        "\n",
        "#Mensaje de juego terminado\n",
        "print('Juego terminado')\n",
        "\n",
        "## FIN DE CÓDIGO"
      ],
      "metadata": {
        "id": "9DRMWhDBVn71",
        "colab": {
          "base_uri": "https://localhost:8080/"
        },
        "outputId": "0334a6e1-e31a-4602-dad5-9cdbed6c3c3d"
      },
      "execution_count": null,
      "outputs": [
        {
          "output_type": "stream",
          "name": "stdout",
          "text": [
            "Ingrese si el paso es seguro ('s') o peligroso ('p'): s\n",
            "Correcto\n",
            "Ingrese si el paso es seguro ('s') o peligroso ('p'): s\n",
            "No pudiste adivinar el paso\n",
            "Ingrese si el paso es seguro ('s') o peligroso ('p'): s\n",
            "No pudiste adivinar el paso\n",
            "Ingrese si el paso es seguro ('s') o peligroso ('p'): s\n",
            "No pudiste adivinar el paso\n",
            "Ingrese si el paso es seguro ('s') o peligroso ('p'): s\n",
            "No pudiste adivinar el paso\n",
            "Alcanzaste el máximo de intentos posibles\n",
            "Juego terminado\n"
          ]
        }
      ]
    },
    {
      "cell_type": "markdown",
      "source": [
        "**Ejercicio 4: El laberinto secreto (Bucle For y Range)**\n",
        "\n",
        "Crea un programa que muestre una cuenta regresiva desde 10 hasta 1 al estilo nivel de escape del laberinto. Cada número debe ir acompañado de un mensaje tipo \"Quedan X segundos para escapar\"."
      ],
      "metadata": {
        "id": "66qKXQwTVoZG"
      }
    },
    {
      "cell_type": "code",
      "source": [
        "## INICIO DE CÓDIGO\n",
        "#Definimos la cuenta hacia atrás\n",
        "cuenta = range (10,0,-1)\n",
        "\n",
        "#Realizamos el bucle for para la cuenta regresiva\n",
        "for i in cuenta:\n",
        "  print(f'{i}: ¡Quedan {i} segundos para escapar!')\n",
        "## FIN DE CÓDIGO"
      ],
      "metadata": {
        "id": "i1S9WPmhVsEj",
        "colab": {
          "base_uri": "https://localhost:8080/"
        },
        "outputId": "efa7aa5c-86e0-46b2-94d9-c25946a121d9"
      },
      "execution_count": null,
      "outputs": [
        {
          "output_type": "stream",
          "name": "stdout",
          "text": [
            "10: ¡Quedan 10 segundos para escapar!\n",
            "9: ¡Quedan 9 segundos para escapar!\n",
            "8: ¡Quedan 8 segundos para escapar!\n",
            "7: ¡Quedan 7 segundos para escapar!\n",
            "6: ¡Quedan 6 segundos para escapar!\n",
            "5: ¡Quedan 5 segundos para escapar!\n",
            "4: ¡Quedan 4 segundos para escapar!\n",
            "3: ¡Quedan 3 segundos para escapar!\n",
            "2: ¡Quedan 2 segundos para escapar!\n",
            "1: ¡Quedan 1 segundos para escapar!\n"
          ]
        }
      ]
    },
    {
      "cell_type": "markdown",
      "source": [
        "**Ejercicio 5: Cofres encantados (Break y Continue)**\n",
        "\n",
        "Simula 10 cofres cerrados, pero uno de ellos es una trampa explosiva (elige aleatoriamente una posición).\n",
        "El jugador abre cofres uno por uno:\n",
        "\n",
        "* Si encuentra la trampa, termina el juego (break).\n",
        "\n",
        "* Si encuentra cofres vacíos, continúa (continue).\n",
        "\n",
        "* Si abre todos sin explotar, gana."
      ],
      "metadata": {
        "id": "5dL6C-x1VsYf"
      }
    },
    {
      "cell_type": "code",
      "source": [
        "## INICIO DE CÓDIGO\n",
        "from random import choice\n",
        "#Definimos los cofres\n",
        "cofre = range (1,11)\n",
        "cofres_abiertos = 0\n",
        "explotar = False\n",
        "\n",
        "#Hacemos el loop para abrir los cofres\n",
        "while cofres_abiertos < 10:\n",
        "  abrir_cofre = (input(\"Desea abrir un cofre 'Si' o 'No': \")).lower()\n",
        "  cofre_explosivo = random.choice(cofre)\n",
        "  if abrir_cofre == 'si':\n",
        "     cofres_abiertos += 1\n",
        "     print(f'Abriste {cofres_abiertos} cofres vacíos')\n",
        "     if cofre[cofres_abiertos-1] == cofre_explosivo:\n",
        "          print(f'Encontraste la trampa en el cofre {cofre_explosivo}')\n",
        "          explotar = True\n",
        "          break\n",
        "     else:\n",
        "        continue\n",
        "  elif abrir_cofre == 'no':\n",
        "     break\n",
        "  else:\n",
        "    print('Ingrese una opción válida')\n",
        "    break\n",
        "\n",
        "if explotar == False:\n",
        "   print('¡Ganaste! ¡Juego terminado!')\n",
        "else:\n",
        "   print('Juego terminado')\n",
        "\n",
        "## FIN DE CÓDIGO"
      ],
      "metadata": {
        "id": "d0hcbl0_V2BI",
        "colab": {
          "base_uri": "https://localhost:8080/"
        },
        "outputId": "004314b0-a2f3-4670-d2a4-fe6be1d9094e"
      },
      "execution_count": null,
      "outputs": [
        {
          "output_type": "stream",
          "name": "stdout",
          "text": [
            "Desea abrir un cofre 'Si' o 'No': si\n",
            "Abriste 1 cofres vacíos\n",
            "Desea abrir un cofre 'Si' o 'No': si\n",
            "Abriste 2 cofres vacíos\n",
            "Desea abrir un cofre 'Si' o 'No': si\n",
            "Abriste 3 cofres vacíos\n",
            "Desea abrir un cofre 'Si' o 'No': si\n",
            "Abriste 4 cofres vacíos\n",
            "Desea abrir un cofre 'Si' o 'No': si\n",
            "Abriste 5 cofres vacíos\n",
            "Desea abrir un cofre 'Si' o 'No': si\n",
            "Abriste 6 cofres vacíos\n",
            "Desea abrir un cofre 'Si' o 'No': si\n",
            "Abriste 7 cofres vacíos\n",
            "Desea abrir un cofre 'Si' o 'No': si\n",
            "Abriste 8 cofres vacíos\n",
            "Desea abrir un cofre 'Si' o 'No': si\n",
            "Abriste 9 cofres vacíos\n",
            "Desea abrir un cofre 'Si' o 'No': si\n",
            "Abriste 10 cofres vacíos\n",
            "¡Ganaste! ¡Juego terminado!\n"
          ]
        }
      ]
    },
    {
      "cell_type": "markdown",
      "source": [
        "**Ejercicio 6: Pociones mágicas (Funciones básicas)**\n",
        "\n",
        "Crea una función usar_pocion(tipo) que permita al jugador elegir entre 'vida', 'fuerza' o 'velocidad', y retorne el efecto de la poción.\n",
        "Luego, pide al usuario que elija una poción y muestra el resultado llamando a la función."
      ],
      "metadata": {
        "id": "94yOz-rKV2gp"
      }
    },
    {
      "cell_type": "code",
      "source": [
        "## INICIO DE CÓDIGO\n",
        "#Definimos la función\n",
        "def usar_pocion(tipo):\n",
        "  '''Funcion que permite usar un tipo de poción según elección\n",
        "  ----parametros----\n",
        "   Tipo de poción: \"vida\", \"fuerza\" o \"velocidad\"'''\n",
        "  if tipo.lower() == 'vida':\n",
        "     return 'Puntos de vida recuperados'\n",
        "  elif tipo.lower() == 'fuerza':\n",
        "     return 'Fuerza incrementada'\n",
        "  elif tipo.lower() == 'velocidad':\n",
        "    return 'Velocidad aumentada'\n",
        "  else:\n",
        "    return 'Sin efecto'\n",
        "\n",
        "#Usuario ingresa poción para alimentar función\n",
        "potion = input('Por favor elija una poción \"Vida\", \"Fuerza\" o \"Velocidad\": ')\n",
        "usar_pocion(potion)\n",
        "\n",
        "## FIN DE CÓDIGO"
      ],
      "metadata": {
        "id": "NQKm0w5iV4Zz",
        "colab": {
          "base_uri": "https://localhost:8080/",
          "height": 53
        },
        "outputId": "1b5044d1-846f-47b5-bc74-0bb4631ae89c"
      },
      "execution_count": null,
      "outputs": [
        {
          "name": "stdout",
          "output_type": "stream",
          "text": [
            "Por favor elija una poción \"Vida\", \"Fuerza\" o \"Velocidad\": VIDA\n"
          ]
        },
        {
          "output_type": "execute_result",
          "data": {
            "text/plain": [
              "'Puntos de vida recuperados'"
            ],
            "application/vnd.google.colaboratory.intrinsic+json": {
              "type": "string"
            }
          },
          "metadata": {},
          "execution_count": 4
        }
      ]
    },
    {
      "cell_type": "markdown",
      "source": [
        "**Ejercicio 7: Calculadora de daño crítico (Funciones con parámetros)**\n",
        "\n",
        "Crea una función calcular_danio(base, critico) que reciba el daño base y un porcentaje de crítico, devolviendo el daño total.\n",
        "El usuario ingresará el daño base y el porcentaje crítico."
      ],
      "metadata": {
        "id": "Qdnbnm4nV44h"
      }
    },
    {
      "cell_type": "code",
      "source": [
        "## INICIO DE CÓDIGO\n",
        "#Definimos la función\n",
        "def calcular_danio(base,critico):\n",
        "  '''Funcion que permite calcular el daño total a partir de un % de critico\n",
        "  ----parametros----\n",
        "  base: daño base\n",
        "  critico: porcentaje de critico aplicable'''\n",
        "  danio_total = (base) * (100 + critico) / 100\n",
        "  return danio_total\n",
        "\n",
        "#Usuario ingresa daño base y porcentaje críticos para alimentar función\n",
        "damage = float(input('Por favor ingresar daño base: '))\n",
        "critic = float(input('Por favor ingrese el % de crítico: '))\n",
        "calcular_danio(damage,critic)\n",
        "## FIN DE CÓDIGO"
      ],
      "metadata": {
        "id": "leaLQJWrV8Tx",
        "colab": {
          "base_uri": "https://localhost:8080/"
        },
        "outputId": "8683ae4c-006c-4bac-97b0-f36df29d457f"
      },
      "execution_count": null,
      "outputs": [
        {
          "name": "stdout",
          "output_type": "stream",
          "text": [
            "Por favor ingresar daño base: 150\n",
            "Por favor ingrese el % de crítico: 50\n"
          ]
        },
        {
          "output_type": "execute_result",
          "data": {
            "text/plain": [
              "225.0"
            ]
          },
          "metadata": {},
          "execution_count": 8
        }
      ]
    },
    {
      "cell_type": "markdown",
      "source": [
        "**Ejercicio 8: El desafío del dragón (Condicionales + funciones + bucles)**\n",
        "\n",
        "Diseña una función enfrentar_dragon(vida, fuerza) que simule el combate:\n",
        "\n",
        "* El jugador ataca al dragón y el dragón contraataca restando vida.\n",
        "\n",
        "* Si la vida llega a 0, el jugador pierde.\n",
        "\n",
        "* Si el jugador realiza 3 ataques consecutivos sin morir, gana.\n",
        "Usa un bucle while interno para el combate."
      ],
      "metadata": {
        "id": "d4j1ckE2V9ag"
      }
    },
    {
      "cell_type": "code",
      "source": [
        "## INICIO DE CÓDIGO\n",
        "#Definimos la función\n",
        "from random import *\n",
        "\n",
        "def enfrentar_dragon(vida,fuerza):\n",
        "  '''Funcion que permite simular un combate frente a un dragón\n",
        "  ----parametros----\n",
        "  vida: puntos de vida del usuario\n",
        "  fuerza: porcentaje de critico aplicable'''\n",
        "  print(f'Te enfrentas al dragón, tu vida es {vida} y tu fuerza {fuerza}')\n",
        "  ataques = 0\n",
        "  while ataques < 3:\n",
        "    dragon_fuerza = fuerza/2 + randint(1,10)\n",
        "    factor = random ()\n",
        "    if vida > 0:\n",
        "      atacar = input('Ingresa \"Si\" para atacar al dragón, \"No\" para escapar: ')\n",
        "      if atacar.lower() == 'si':\n",
        "         print('Atacas al dragon')\n",
        "         ataques += 1\n",
        "         daño = round((dragon_fuerza) * (factor),2)\n",
        "         print(f'El dragón te ataca con {daño}')\n",
        "         vida = vida - daño\n",
        "      elif atacar.lower() == 'no':\n",
        "         print('Escapas del combate')\n",
        "         break\n",
        "    else:\n",
        "      return print('¡Pierdes el combate!')\n",
        "      break\n",
        "\n",
        "  if ataques >= 3:\n",
        "     return print('¡Ganas el combate!')\n",
        "  else:\n",
        "    return print('¡No derrotaste al dragón!')\n",
        "\n",
        "enfrentar_dragon(100,40)\n",
        "## FIN DE CÓDIGO"
      ],
      "metadata": {
        "id": "_CGyWwuaWByi",
        "colab": {
          "base_uri": "https://localhost:8080/"
        },
        "outputId": "7033161c-2784-466b-f17b-ab137b20359e"
      },
      "execution_count": 74,
      "outputs": [
        {
          "output_type": "stream",
          "name": "stdout",
          "text": [
            "Te enfrentas al dragón, tu vida es 100 y tu fuerza 40\n",
            "Ingresa \"Si\" para atacar al dragón, \"No\" para escapar: Si\n",
            "Atacas al dragon\n",
            "El dragón te ataca con 10.14\n",
            "Ingresa \"Si\" para atacar al dragón, \"No\" para escapar: Si\n",
            "Atacas al dragon\n",
            "El dragón te ataca con 19.27\n",
            "Ingresa \"Si\" para atacar al dragón, \"No\" para escapar: Si\n",
            "Atacas al dragon\n",
            "El dragón te ataca con 18.67\n",
            "¡Ganas el combate!\n"
          ]
        }
      ]
    },
    {
      "cell_type": "markdown",
      "source": [
        "**Ejercicio 9: El camino del héroe (Recursividad sencilla)**\n",
        "\n",
        "Crea una función recursiva que simule el camino de un héroe cruzando N obstáculos, mostrando mensajes como:\n",
        "\n",
        "\"Obstáculo 3: saltando...\"\n",
        "\n",
        "Termina cuando N llegue a 0."
      ],
      "metadata": {
        "id": "8X5Y08fQWCFU"
      }
    },
    {
      "cell_type": "code",
      "source": [
        "## INICIO DE CÓDIGO\n",
        "def recursiva_nivel(niveles):\n",
        "  '''Función recursiva que simula el camino de un héroe\n",
        "  ----parametros----\n",
        "  niveles: representa los obstáculos o niveles que atraviesa el héroe'''\n",
        "  if niveles == 0:\n",
        "     return print('¡Ganaste el juego!')\n",
        "  else:\n",
        "     superar_nivel = print(f'Nivel {niveles} superado')\n",
        "     return recursiva_nivel(niveles-1)\n",
        "\n",
        "recursiva_nivel(2)\n",
        "## FIN DE CÓDIGO"
      ],
      "metadata": {
        "id": "vVDjZHSVWJdQ",
        "colab": {
          "base_uri": "https://localhost:8080/"
        },
        "outputId": "51f78138-082d-430f-afc4-225c17ab1ab2"
      },
      "execution_count": null,
      "outputs": [
        {
          "output_type": "stream",
          "name": "stdout",
          "text": [
            "Nivel 2 superado\n",
            "Nivel 1 superado\n",
            "¡Ganaste el juego!\n"
          ]
        }
      ]
    },
    {
      "cell_type": "markdown",
      "source": [
        "**Ejercicio 10: Torre de los hechizos (Reto Integrador Final)**\n",
        "\n",
        "Crea un programa completo que combine:\n",
        "\n",
        "* Elección de personaje.\n",
        "\n",
        "* Simulación de un combate contra un enemigo con vida y defensa.\n",
        "\n",
        "* Uso de funciones para calcular el daño.\n",
        "\n",
        "* Bucles para turnos de combate.\n",
        "\n",
        "* Uso de una función recursiva que simule las rondas como niveles (nivel 1, 2, 3 hasta ganar).\n",
        "\n"
      ],
      "metadata": {
        "id": "Behbpl_8WJzR"
      }
    },
    {
      "cell_type": "code",
      "source": [
        "## INICIO DE CÓDIGO\n",
        "from random import *\n",
        "\n",
        "#Se define la variable que almacenará el personaje\n",
        "print('¡Bienvenido aventurero al reto de la torre!')\n",
        "lista_pjs = ['Guerrero', 'Mago', 'Arquero']\n",
        "seleccion_pj = False\n",
        "\n",
        "enemigo1 = 'Goblin'\n",
        "enemigo1_derrotado = False\n",
        "enemigo2= 'Lobo'\n",
        "enemigo2_derrotado = False\n",
        "enemigo3 = 'Dragon'\n",
        "enemigo3_derrotado = False\n",
        "enemigos = {enemigo1: {\"Vida\": 10, \"Poder\":5, \"Defensa\": 2},\n",
        "            enemigo2: {\"Vida\": 12, \"Poder\":8, \"Defensa\": 5},\n",
        "            enemigo3: {\"Vida\": 20, \"Poder\":10, \"Defensa\": 10}\n",
        "            }\n",
        "\n",
        "\n",
        "#Definimos el diccionario con los stats de los personajes\n",
        "stats = {\"guerrero\": {\"Vida\": 20, \"Poder\": 12, \"Defensa\": 6},\n",
        "         \"mago\": {\"Vida\": 16, \"Poder\": 11, \"Defensa\": 5},\n",
        "         \"arquero\": {\"Vida\": 18, \"Poder\": 10, \"Defensa\": 7}\n",
        "         }\n",
        "\n",
        "#Se bucle para elegir pj\n",
        "while seleccion_pj is False:\n",
        "      pj = (input('Seleccione su personaje inicial \"Guerrero\", \"Mago\" o \"Arquero\": ')).lower()\n",
        "      if pj == \"guerrero\":\n",
        "         print(f'Excelente elección el {pj.title()} \\nTus estadísticas son: \\n {stats[\"guerrero\"]}')\n",
        "         seleccion_pj = True\n",
        "      elif pj == \"mago\":\n",
        "           print(f'Excelente elección el {pj.title()} \\nTus estadísticas son: \\n {stats[\"mago\"]}')\n",
        "           seleccion_pj = True\n",
        "      elif pj == \"arquero\":\n",
        "           print(f'Excelente elección el {pj.title()} \\nTus estadísticas son: \\n {stats[\"arquero\"]}')\n",
        "           seleccion_pj = True\n",
        "      else:\n",
        "           print('Ingrese por favor un valor válido')\n",
        "           seleccion_pj = False\n",
        "           continue\n",
        "\n",
        "#Función para calcular el daño\n",
        "def calc_danio(poder_atacante,defensa_enemigo):\n",
        "  '''Función para calcular el daño al enfrentarse a un enemigo\n",
        "  ----parametros----\n",
        "  poder_atacante: representa el poder del personaje/enemigo atacante\n",
        "  defensa_enemigo: representa la defensa del personaje/enemigo'''\n",
        "  danio_a_enemigo = (poder_atacante - defensa_enemigo) * (randint(1,2))\n",
        "\n",
        "  if danio_a_enemigo <= 0:\n",
        "      return 0\n",
        "  elif danio_a_enemigo > 0:\n",
        "      return danio_a_enemigo\n",
        "\n",
        "#Función recursiva de niveles\n",
        "def rec_ronda(nivel,enemigo_derrotado):\n",
        "  '''Función recursiva que simula las rondas como niveles\n",
        "  ----parametros----\n",
        "  nivel: representa el nivel/ronda inicial\n",
        "  enemigo_derrotado: booleano que representa si se derroto o no al enemigo'''\n",
        "  while nivel < 4:\n",
        "    if enemigo_derrotado == False:\n",
        "       return print(f'¡Inicias el nivel {nivel}!')\n",
        "    else:\n",
        "       print(f'Nivel {nivel} superado')\n",
        "       return rec_ronda(nivel+1,False)\n",
        "\n",
        "  return print('¡Ganaste el juego!')\n",
        "\n",
        "#Turno de combates Enemigo1\n",
        "rec_ronda(1,False)\n",
        "print(f'En este nivel te enfrentas a un {enemigo1}: {enemigos[enemigo1]}')\n",
        "vida_pj = stats[pj][\"Vida\"]\n",
        "vida_enemigo1 = enemigos[enemigo1][\"Vida\"]\n",
        "\n",
        "while enemigo1_derrotado == False:\n",
        "     danio_pj = calc_danio (stats[pj][\"Poder\"],enemigos[enemigo1][\"Defensa\"])\n",
        "     danio_enemigo1 = calc_danio (enemigos[enemigo1][\"Poder\"],stats[pj][\"Defensa\"])\n",
        "     vida_pj = vida_pj - danio_enemigo1\n",
        "     vida_enemigo1 = vida_enemigo1 - danio_pj\n",
        "     atacar = input('Atacas al enemigo \"Si\" o \"No\": ')\n",
        "     if atacar.lower() == 'si':\n",
        "        if vida_enemigo1 <= 0:\n",
        "           print(f'Atacas al {enemigo1}, con {danio_pj} de daño')\n",
        "           print(f'¡Derrotaste al {enemigo1}!')\n",
        "           rec_ronda(1,True)\n",
        "           enemigo1_derrotado = True\n",
        "           print(f'En este nivel te desafía un {enemigo2}: {enemigos[enemigo2]}')\n",
        "        else:\n",
        "           print(f'Atacas al {enemigo1} con {danio_pj} de daño, le queda {vida_enemigo1}')\n",
        "           print(f'El {enemigo1} te ataco con {danio_enemigo1} de daño')\n",
        "\n",
        "           if vida_pj <= 0:\n",
        "              print('¡Pierdes el juego!')\n",
        "              break\n",
        "           else:\n",
        "              continue\n",
        "\n",
        "     elif atacar.lower() == 'no':\n",
        "       print('Escapas del combate')\n",
        "       print('Pierdes el juego')\n",
        "       break\n",
        "     else:\n",
        "       print('Ingrese un valor válido')\n",
        "       continue\n",
        "\n",
        "if enemigo1_derrotado == True:\n",
        "   #Turno de combates Enemigo2\n",
        "   vida_pj = stats[pj][\"Vida\"]\n",
        "   vida_enemigo2 = enemigos[enemigo2][\"Vida\"]\n",
        "\n",
        "   while enemigo2_derrotado == False:\n",
        "     danio_pj = calc_danio (stats[pj][\"Poder\"],enemigos[enemigo2][\"Defensa\"])\n",
        "     danio_enemigo2 = calc_danio (enemigos[enemigo2][\"Poder\"],stats[pj][\"Defensa\"])\n",
        "     vida_pj = vida_pj - danio_enemigo2\n",
        "     vida_enemigo2 = vida_enemigo2 - danio_pj\n",
        "     atacar = input('Atacas al enemigo \"Si\" o \"No\": ')\n",
        "     if atacar.lower() == 'si':\n",
        "        if vida_enemigo2 <= 0:\n",
        "           print(f'Atacas al {enemigo2}, con {danio_pj} de daño')\n",
        "           print(f'¡Derrotaste al {enemigo2}!')\n",
        "           rec_ronda(2,True)\n",
        "           enemigo2_derrotado = True\n",
        "           print(f'En este nivel te desafía un {enemigo3}: {enemigos[enemigo3]}')\n",
        "        else:\n",
        "           print(f'Atacas al {enemigo2} con {danio_pj} de daño, le queda {vida_enemigo2}')\n",
        "           print(f'El {enemigo2} te ataco con {danio_enemigo2} de daño')\n",
        "\n",
        "           if vida_pj <= 0:\n",
        "              print('¡Pierdes el juego!')\n",
        "              break\n",
        "           else:\n",
        "              continue\n",
        "     elif atacar.lower() == 'no':\n",
        "       print('Escapas del combate')\n",
        "       print('Pierdes el juego')\n",
        "       break\n",
        "     else:\n",
        "       print('Ingrese un valor válido')\n",
        "       continue\n",
        "\n",
        "if enemigo2_derrotado == True:\n",
        "  #Turno de combates Enemigo3\n",
        "  vida_pj = stats[pj][\"Vida\"]\n",
        "  vida_enemigo3 = enemigos[enemigo3][\"Vida\"]\n",
        "\n",
        "  while enemigo3_derrotado == False:\n",
        "     danio_pj = calc_danio (stats[pj][\"Poder\"],enemigos[enemigo3][\"Defensa\"])\n",
        "     danio_enemigo3 = calc_danio (enemigos[enemigo3][\"Poder\"],stats[pj][\"Defensa\"])\n",
        "     vida_pj = vida_pj - danio_enemigo3\n",
        "     vida_enemigo3 = vida_enemigo3 - danio_pj\n",
        "     atacar = input('Atacas al enemigo \"Si\" o \"No\": ')\n",
        "     if atacar.lower() == 'si':\n",
        "        if vida_enemigo3 <= 0:\n",
        "           print(f'Atacas al {enemigo3}, con {danio_pj} de daño')\n",
        "           print(f'¡Derrotaste al {enemigo3}!')\n",
        "           rec_ronda(3,True)\n",
        "           enemigo3_derrotado = True\n",
        "\n",
        "        else:\n",
        "           print(f'Atacas al {enemigo3} con {danio_pj} de daño, le queda {vida_enemigo3}')\n",
        "           print(f'El {enemigo3} te ataco con {danio_enemigo3} de daño')\n",
        "\n",
        "           if vida_pj <= 0:\n",
        "              print('¡Pierdes el juego!')\n",
        "              break\n",
        "           else:\n",
        "              continue\n",
        "     elif atacar.lower() == 'no':\n",
        "       print('Escapas del combate')\n",
        "       print('Pierdes el juego')\n",
        "       break\n",
        "     else:\n",
        "       print('Ingrese un valor válido')\n",
        "       continue\n",
        "\n",
        "## FIN DE CÓDIGO"
      ],
      "metadata": {
        "id": "smtLq1SDWTJd",
        "colab": {
          "base_uri": "https://localhost:8080/"
        },
        "outputId": "90911ffd-2449-43aa-e28a-43a8169fb574"
      },
      "execution_count": 65,
      "outputs": [
        {
          "output_type": "stream",
          "name": "stdout",
          "text": [
            "¡Bienvenido aventurero al reto de la torre!\n",
            "Seleccione su personaje inicial \"Guerrero\", \"Mago\" o \"Arquero\": Mago\n",
            "Excelente elección el Mago \n",
            "Tus estadísticas son: \n",
            " {'Vida': 16, 'Poder': 11, 'Defensa': 5}\n",
            "¡Inicias el nivel 1!\n",
            "En este nivel te enfrentas a un Goblin: {'Vida': 10, 'Poder': 5, 'Defensa': 2}\n",
            "Atacas al enemigo \"Si\" o \"No\": Si\n",
            "Atacas al Goblin con 9 de daño, le queda 1\n",
            "El Goblin te ataco con 0 de daño\n",
            "Atacas al enemigo \"Si\" o \"No\": Si\n",
            "Atacas al Goblin, con 9 de daño\n",
            "¡Derrotaste al Goblin!\n",
            "Nivel 1 superado\n",
            "¡Inicias el nivel 2!\n",
            "En este nivel te desafía un Lobo: {'Vida': 12, 'Poder': 8, 'Defensa': 5}\n",
            "Atacas al enemigo \"Si\" o \"No\": Si\n",
            "Atacas al Lobo, con 12 de daño\n",
            "¡Derrotaste al Lobo!\n",
            "Nivel 2 superado\n",
            "¡Inicias el nivel 3!\n",
            "En este nivel te desafía un Dragon: {'Vida': 20, 'Poder': 10, 'Defensa': 10}\n",
            "Atacas al enemigo \"Si\" o \"No\": Si\n",
            "Atacas al Dragon con 1 de daño, le queda 19\n",
            "El Dragon te ataco con 5 de daño\n",
            "Atacas al enemigo \"Si\" o \"No\": Si\n",
            "Atacas al Dragon con 2 de daño, le queda 17\n",
            "El Dragon te ataco con 5 de daño\n",
            "Atacas al enemigo \"Si\" o \"No\": Si\n",
            "Atacas al Dragon con 1 de daño, le queda 16\n",
            "El Dragon te ataco con 10 de daño\n",
            "¡Pierdes el juego!\n"
          ]
        }
      ]
    },
    {
      "cell_type": "markdown",
      "source": [
        "---\n",
        "\n",
        "# Gracias por completar este laboratorio!\n",
        "\n",
        "---\n"
      ],
      "metadata": {
        "id": "EONqoa25Wlx3"
      }
    }
  ]
}