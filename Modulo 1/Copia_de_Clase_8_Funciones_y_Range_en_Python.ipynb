{
  "nbformat": 4,
  "nbformat_minor": 0,
  "metadata": {
    "colab": {
      "provenance": [],
      "include_colab_link": true
    },
    "kernelspec": {
      "name": "python3",
      "display_name": "Python 3"
    },
    "language_info": {
      "name": "python"
    }
  },
  "cells": [
    {
      "cell_type": "markdown",
      "metadata": {
        "id": "view-in-github",
        "colab_type": "text"
      },
      "source": [
        "<a href=\"https://colab.research.google.com/github/DavidRQ24/tests-python-/blob/main/Modulo%201/Copia_de_Clase_8_Funciones_y_Range_en_Python.ipynb\" target=\"_parent\"><img src=\"https://colab.research.google.com/assets/colab-badge.svg\" alt=\"Open In Colab\"/></a>"
      ]
    },
    {
      "cell_type": "markdown",
      "source": [
        "# Funciones y Range en Python"
      ],
      "metadata": {
        "id": "X1el0Wz1JZqY"
      }
    },
    {
      "cell_type": "markdown",
      "source": [
        "**1. INTRODUCCIÓN**\n",
        "\n",
        "**Objetivo de la clase:**\n",
        "\n",
        "- Comprender qué son las funciones y cómo se usan en Python.\n",
        "\n",
        "- Comprender el uso de range() como herramienta de iteración.\n",
        "\n",
        "- Aplicar ambos conceptos en contextos de marketing, finanzas y ecommerce."
      ],
      "metadata": {
        "id": "ywsKcY8cJfJo"
      }
    },
    {
      "cell_type": "markdown",
      "source": [
        "**2. FUNCIONES EN PYTHON**\n",
        "\n",
        "**¿Qué es una función?**\n",
        "\n",
        "Una función es un bloque de código reutilizable que se puede ejecutar cuando sea necesario. Ayuda a organizar el código y evitar repeticiones."
      ],
      "metadata": {
        "id": "LQuCiXPzJojH"
      }
    },
    {
      "cell_type": "markdown",
      "source": [
        "**Estructura básica:**"
      ],
      "metadata": {
        "id": "7AK84BGCJszm"
      }
    },
    {
      "cell_type": "code",
      "execution_count": null,
      "metadata": {
        "id": "htagfLrqJPYN"
      },
      "outputs": [],
      "source": [
        "def nombre_de_funcion(parametros):\n",
        "    # bloque de código\n",
        "    return resultado"
      ]
    },
    {
      "cell_type": "markdown",
      "source": [
        "**Ejemplo 1**\n",
        "\n",
        "Diseñar una función que calcule el interés en monto que pagará un cliente al tomar un crédito, use como inputs (capital en soles, tasa de interés y duración del crédito en meses)"
      ],
      "metadata": {
        "id": "NW7S7xplKMGT"
      }
    },
    {
      "cell_type": "code",
      "source": [
        "def calcular_interes(capital, tasa, tiempo):\n",
        "    interes = capital * tasa * tiempo\n",
        "    return interes"
      ],
      "metadata": {
        "id": "Rr6v1Y70KmYN"
      },
      "execution_count": null,
      "outputs": []
    },
    {
      "cell_type": "code",
      "source": [
        "print(calcular_interes(1000, 0.05, 1))  # Resultado: 50.0"
      ],
      "metadata": {
        "id": "14HMlvihKrhq"
      },
      "execution_count": null,
      "outputs": []
    },
    {
      "cell_type": "markdown",
      "source": [
        "**Ejemplo 2**\n",
        "\n",
        "Diseñar una función que calcule el nuevo precio incluyendo el descuento de una campaña específica, use como inputs (precio en soles y descuento en porcentaje)"
      ],
      "metadata": {
        "id": "6xNqUFtzKzW9"
      }
    },
    {
      "cell_type": "code",
      "source": [
        "def calcular_precio(precio, descuento):\n",
        "    nuevo_precio = precio * (1 - descuento/100)\n",
        "    return nuevo_precio"
      ],
      "metadata": {
        "id": "S4HI_R2wU0kl"
      },
      "execution_count": 6,
      "outputs": []
    },
    {
      "cell_type": "code",
      "source": [
        "print(calcular_precio(1000, 50))"
      ],
      "metadata": {
        "colab": {
          "base_uri": "https://localhost:8080/"
        },
        "id": "XRY4EWZCVSLQ",
        "outputId": "af150f01-5749-4740-a415-5f492b15ef34"
      },
      "execution_count": 7,
      "outputs": [
        {
          "output_type": "stream",
          "name": "stdout",
          "text": [
            "500.0\n"
          ]
        }
      ]
    },
    {
      "cell_type": "markdown",
      "source": [
        "**Ejemplo 3**\n",
        "\n",
        "Diseñar una función que calcule el cpcc (Costo por Click) de un ad publicitario en internet, considerde como input (Tarifa en soles que se aplicará por click, número de clicks en el Ad)"
      ],
      "metadata": {
        "id": "zU28K4nWLe2N"
      }
    },
    {
      "cell_type": "code",
      "source": [
        "def calcular_cpcc(tarifa, clicks):\n",
        "    costo = tarifa * (clicks)\n",
        "    return costo"
      ],
      "metadata": {
        "id": "KKOaXUNkXOTe"
      },
      "execution_count": 8,
      "outputs": []
    },
    {
      "cell_type": "code",
      "source": [
        "print(calcular_cpcc(10, 500))"
      ],
      "metadata": {
        "colab": {
          "base_uri": "https://localhost:8080/"
        },
        "id": "6u4KugJZXfFs",
        "outputId": "d3dc8837-c04e-43a0-cbfd-d6cb91282b29"
      },
      "execution_count": 9,
      "outputs": [
        {
          "output_type": "stream",
          "name": "stdout",
          "text": [
            "5000\n"
          ]
        }
      ]
    },
    {
      "cell_type": "markdown",
      "source": [
        "**2. RANGE EN PYTHON**\n",
        "\n",
        "**¿Qué es range()?**\n",
        "\n",
        "range() genera una secuencia de números, comúnmente usada para repetir acciones un número definido de veces."
      ],
      "metadata": {
        "id": "isGog95fMNbO"
      }
    },
    {
      "cell_type": "markdown",
      "source": [
        "**Estructura básica:**"
      ],
      "metadata": {
        "id": "-oR_Etb6MXAD"
      }
    },
    {
      "cell_type": "code",
      "source": [
        "range(inicio, fin, paso)"
      ],
      "metadata": {
        "id": "d8XGHQQkLT0Q"
      },
      "execution_count": null,
      "outputs": []
    },
    {
      "cell_type": "markdown",
      "source": [
        "**Ejemplo 1**"
      ],
      "metadata": {
        "id": "bLDJfdmEMbfS"
      }
    },
    {
      "cell_type": "code",
      "source": [
        "for i in range(5):\n",
        "    print(i)  # Imprime del 0 al 4"
      ],
      "metadata": {
        "id": "mmyPk4RzMcNg",
        "colab": {
          "base_uri": "https://localhost:8080/"
        },
        "outputId": "72f3d706-222e-4d6e-f2db-ad44de1ec9bb"
      },
      "execution_count": 11,
      "outputs": [
        {
          "output_type": "stream",
          "name": "stdout",
          "text": [
            "0\n",
            "1\n",
            "2\n",
            "3\n",
            "4\n"
          ]
        }
      ]
    },
    {
      "cell_type": "markdown",
      "source": [
        "**Ejemplo 2**\n",
        "\n",
        "Diseñe una función que presente el portafolio de productos que tiene un negocio"
      ],
      "metadata": {
        "id": "valEOhXnMh5T"
      }
    },
    {
      "cell_type": "code",
      "source": [
        "productos = [\"zapatos\", \"camisa\", \"pantalón\"]\n",
        "for i in range(len(productos)):\n",
        "    print(\"Producto:\", productos[i])"
      ],
      "metadata": {
        "id": "h8eQF6oeMiYZ",
        "colab": {
          "base_uri": "https://localhost:8080/"
        },
        "outputId": "d9a8f3be-67fa-42e3-c9b9-f3e99116e28f"
      },
      "execution_count": 10,
      "outputs": [
        {
          "output_type": "stream",
          "name": "stdout",
          "text": [
            "Producto: zapatos\n",
            "Producto: camisa\n",
            "Producto: pantalón\n"
          ]
        }
      ]
    },
    {
      "cell_type": "markdown",
      "source": [
        "**4. EJERCICIOS DE PRÁCTICA EN CLASE**\n",
        "\n",
        "**Funciones:**\n",
        "\n",
        "1. Crear una función que calcule el IGV (18%) de una venta.\n",
        "\n",
        "2. Crear una función que reciba una lista de ingresos mensuales y devuelva el promedio.\n",
        "\n",
        "3. Crear una función que indique si un cliente es \"Premium\" (si tiene más de 3 productos).\n",
        "\n",
        "**Range:**\n",
        "\n",
        "1. Usar range() para imprimir los primeros 10 múltiplos de 5.\n",
        "\n",
        "2. Usar range() para simular 6 meses de ahorro mensual y mostrar el total ahorrado."
      ],
      "metadata": {
        "id": "4xIvrZsOM41P"
      }
    },
    {
      "cell_type": "code",
      "source": [
        "#1\n",
        "def igv(monto):\n",
        "    imp = monto*0.18\n",
        "    return imp"
      ],
      "metadata": {
        "id": "-pQm5aPxcnRk"
      },
      "execution_count": 14,
      "outputs": []
    },
    {
      "cell_type": "code",
      "source": [
        "#2\n",
        "def ingreso_prom(lista):\n",
        "    valor = 0\n",
        "    for i in range(len(lista)):\n",
        "      valor += float(lista[i]) #mas eficiente era un sum(lista) para el valor total\n",
        "      promedio = valor/len(lista)\n",
        "    return promedio"
      ],
      "metadata": {
        "id": "SXmCElwadPF3"
      },
      "execution_count": 27,
      "outputs": []
    },
    {
      "cell_type": "code",
      "source": [
        "lista = [2500, 3000, 2800, 3100]\n",
        "ingreso_prom(lista)"
      ],
      "metadata": {
        "colab": {
          "base_uri": "https://localhost:8080/"
        },
        "id": "fiIvMjYpeTHC",
        "outputId": "dd85776c-55fc-433b-ba82-f8dbda979dd6"
      },
      "execution_count": 28,
      "outputs": [
        {
          "output_type": "execute_result",
          "data": {
            "text/plain": [
              "2850.0"
            ]
          },
          "metadata": {},
          "execution_count": 28
        }
      ]
    },
    {
      "cell_type": "code",
      "source": [
        "#2 otra forma si hay que ingresar data\n",
        "lista_ingresos = []\n",
        "def ingreso_prom2(lista_ingresos):\n",
        "  for i in range(5):\n",
        "    ingreso = int(input(f'Ingrese el ingreso mensual de la persona {i+1}: '))\n",
        "    lista_ingresos.append(ingreso)\n",
        "    promedio2 = sum(lista_ingresos) / len(lista_ingresos)\n",
        "  return promedio2\n",
        "print(f'El ingreso promedio es {ingreso_prom2(lista_ingresos)}')"
      ],
      "metadata": {
        "colab": {
          "base_uri": "https://localhost:8080/"
        },
        "id": "dIWnVIp2hMic",
        "outputId": "12c2736d-c0c7-4110-dba3-3cf6023ea968"
      },
      "execution_count": 29,
      "outputs": [
        {
          "output_type": "stream",
          "name": "stdout",
          "text": [
            "Ingrese el ingreso mensual de la persona 1: 2500\n",
            "Ingrese el ingreso mensual de la persona 2: 3000\n",
            "Ingrese el ingreso mensual de la persona 3: 2800\n",
            "Ingrese el ingreso mensual de la persona 4: 3100\n",
            "Ingrese el ingreso mensual de la persona 5: 2900\n",
            "El ingreso promedio es 2860.0\n"
          ]
        }
      ]
    },
    {
      "cell_type": "code",
      "source": [
        "#2 forma de la profe\n",
        "def prom_ingresos(lista_ingresos):\n",
        "  if len(lista_ingresos) == 0:\n",
        "    return 0\n",
        "\n",
        "  promedio = sum(lista_ingresos) / len(lista_ingresos)\n",
        "  return promedio"
      ],
      "metadata": {
        "id": "TCPGiLAlfIEt"
      },
      "execution_count": 30,
      "outputs": []
    },
    {
      "cell_type": "code",
      "source": [
        "#3\n",
        "def categoria_cliente(num_productos):\n",
        "\n",
        "  if len(num_productos)>3:\n",
        "      mensaje = \"Es un cliente premium\"\n",
        "  else:\n",
        "    mensaje = \"No es un cliente premium\"\n",
        "  return mensaje\n",
        "\n",
        "productos_c1 = [1, 2, 3, 4, 5]\n",
        "\n",
        "print(categoria_cliente(productos_c1))"
      ],
      "metadata": {
        "colab": {
          "base_uri": "https://localhost:8080/"
        },
        "id": "DSe97nCPuXo2",
        "outputId": "e2bd356a-f765-4eb6-bd80-5d0fbf443955"
      },
      "execution_count": 61,
      "outputs": [
        {
          "output_type": "stream",
          "name": "stdout",
          "text": [
            "Es un cliente premium\n"
          ]
        }
      ]
    },
    {
      "cell_type": "code",
      "source": [
        "#3 Queria hacer la prueba usando diccionario\n",
        "cliente = {\n",
        "    1:{\"nombre\": \"Ana\", \"productos\": 1},\n",
        "    2:{\"nombre\": \"Luis\", \"productos\": 4},\n",
        "    3:{\"nombre\": \"Carlos\", \"productos\": 5},\n",
        "    4:{\"nombre\": \"Juan\", \"productos\": 2}\n",
        "}\n",
        "\n",
        "def premium(cliente):\n",
        "  i = 0\n",
        "  for i in (cliente):\n",
        "\n",
        "    if cliente[i][\"productos\"] > 3:\n",
        "      return print(f'Cliente {cliente[i][\"nombre\"]} si clasifica como premium')\n",
        "    else:\n",
        "      return print(f'Cliente {cliente[i][\"nombre\"]} no clasifica como premium')\n",
        "\n",
        "\n",
        "premium(cliente)"
      ],
      "metadata": {
        "id": "TKr9SAf2oeyC"
      },
      "execution_count": null,
      "outputs": []
    },
    {
      "cell_type": "code",
      "source": [
        "#4\n",
        "for i in range(0, 50, 5):\n",
        "  print(i)"
      ],
      "metadata": {
        "colab": {
          "base_uri": "https://localhost:8080/"
        },
        "id": "-C9puwPdu-uk",
        "outputId": "6b317b45-29f4-4b98-c632-12e53d856843"
      },
      "execution_count": 64,
      "outputs": [
        {
          "output_type": "stream",
          "name": "stdout",
          "text": [
            "0\n",
            "5\n",
            "10\n",
            "15\n",
            "20\n",
            "25\n",
            "30\n",
            "35\n",
            "40\n",
            "45\n"
          ]
        }
      ]
    },
    {
      "cell_type": "code",
      "source": [
        "#5\n",
        "ahorro = 0\n",
        "for i in range(1,7):\n",
        "  ahorro += float(input(f'Ingrese el ahorro del mes {i}: '))\n",
        "\n",
        "print(f'El total ahorrado es {ahorro}')"
      ],
      "metadata": {
        "colab": {
          "base_uri": "https://localhost:8080/"
        },
        "id": "mK8AwpNmvWH4",
        "outputId": "0963271f-a952-460c-f2b5-c7c03f3a8edb"
      },
      "execution_count": 70,
      "outputs": [
        {
          "output_type": "stream",
          "name": "stdout",
          "text": [
            "Ingrese el ahorro del mes 1: 100\n",
            "Ingrese el ahorro del mes 2: 200\n",
            "Ingrese el ahorro del mes 3: 300\n",
            "Ingrese el ahorro del mes 4: 400\n",
            "Ingrese el ahorro del mes 5: 500\n",
            "Ingrese el ahorro del mes 6: 600\n",
            "El total ahorrado es 2100.0\n"
          ]
        }
      ]
    },
    {
      "cell_type": "markdown",
      "source": [
        "**5. MINI PROYECTO FINAL**\n",
        "\n",
        "**Descripción:**\n",
        "\n",
        "Simular un sistema básico para evaluar el rendimiento financiero de clientes bancarios.\n",
        "\n",
        "**Requisitos:**\n",
        "\n",
        "- Lista de clientes (IDs)\n",
        "\n",
        "- Diccionario con ingresos mensuales\n",
        "\n",
        "- Funciones para:\n",
        "\n",
        "- Calcular ingreso anual\n",
        "\n",
        "- Clasificar al cliente (alto, medio, bajo ingreso)\n",
        "\n",
        "- Uso de range para simular 12 meses\n",
        "\n",
        "- Uso de if, else, for, while"
      ],
      "metadata": {
        "id": "qZKELUZANEtx"
      }
    },
    {
      "cell_type": "code",
      "source": [],
      "metadata": {
        "id": "ZnzK9eFCNW9F"
      },
      "execution_count": null,
      "outputs": []
    }
  ]
}